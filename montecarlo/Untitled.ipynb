{
 "cells": [
  {
   "cell_type": "code",
   "execution_count": 27,
   "metadata": {},
   "outputs": [
    {
     "ename": "ModuleNotFoundError",
     "evalue": "No module named 'backup'",
     "output_type": "error",
     "traceback": [
      "\u001b[1;31m---------------------------------------------------------------------------\u001b[0m",
      "\u001b[1;31mModuleNotFoundError\u001b[0m                       Traceback (most recent call last)",
      "\u001b[1;32m<ipython-input-27-8fd1fed18237>\u001b[0m in \u001b[0;36m<module>\u001b[1;34m\u001b[0m\n\u001b[1;32m----> 1\u001b[1;33m \u001b[1;32mimport\u001b[0m \u001b[0mtestslide\u001b[0m\u001b[1;33m,\u001b[0m \u001b[0mbackup\u001b[0m\u001b[1;33m,\u001b[0m \u001b[0mstorage\u001b[0m\u001b[1;33m\u001b[0m\u001b[1;33m\u001b[0m\u001b[0m\n\u001b[0m\u001b[0;32m      2\u001b[0m \u001b[1;33m\u001b[0m\u001b[0m\n\u001b[0;32m      3\u001b[0m \u001b[1;32mclass\u001b[0m \u001b[0mTestBackupDelete\u001b[0m\u001b[1;33m(\u001b[0m\u001b[0mtestslide\u001b[0m\u001b[1;33m.\u001b[0m\u001b[0mTestCase\u001b[0m\u001b[1;33m)\u001b[0m\u001b[1;33m:\u001b[0m\u001b[1;33m\u001b[0m\u001b[1;33m\u001b[0m\u001b[0m\n\u001b[0;32m      4\u001b[0m   \u001b[1;32mdef\u001b[0m \u001b[0msetUp\u001b[0m\u001b[1;33m(\u001b[0m\u001b[0mself\u001b[0m\u001b[1;33m)\u001b[0m\u001b[1;33m:\u001b[0m\u001b[1;33m\u001b[0m\u001b[1;33m\u001b[0m\u001b[0m\n\u001b[0;32m      5\u001b[0m     \u001b[0msuper\u001b[0m\u001b[1;33m(\u001b[0m\u001b[1;33m)\u001b[0m\u001b[1;33m.\u001b[0m\u001b[0msetUp\u001b[0m\u001b[1;33m(\u001b[0m\u001b[1;33m)\u001b[0m\u001b[1;33m\u001b[0m\u001b[1;33m\u001b[0m\u001b[0m\n",
      "\u001b[1;31mModuleNotFoundError\u001b[0m: No module named 'backup'"
     ]
    }
   ],
   "source": [
    "import testslide, backup, storage\n",
    "\n",
    "class TestBackupDelete(testslide.TestCase):\n",
    "  def setUp(self):\n",
    "    super().setUp()\n",
    "    self.storage_mock = testslide.StrictMock(storage.Client)\n",
    "    # Makes storage.Client(timeout=60) return self.storage_mock\n",
    "    self.mock_constructor(storage, 'Client')\\\n",
    "      .for_call(timeout=60)\\\n",
    "      .to_return_value(self.storage_mock)\n",
    "\n",
    "  def test_delete_from_storage(self):\n",
    "    # Set behavior and assertion for the call at the mock\n",
    "    self.mock_callable(self.storage_mock, 'delete')\\\n",
    "      .for_call('/file/to/delete')\\\n",
    "      .to_return_value(True)\\\n",
    "      .and_assert_called_once()\n",
    "    backup.Backup().delete('/file/to/delete')"
   ]
  },
  {
   "cell_type": "code",
   "execution_count": null,
   "metadata": {},
   "outputs": [],
   "source": []
  }
 ],
 "metadata": {
  "kernelspec": {
   "display_name": "Python 3",
   "language": "python",
   "name": "python3"
  },
  "language_info": {
   "codemirror_mode": {
    "name": "ipython",
    "version": 3
   },
   "file_extension": ".py",
   "mimetype": "text/x-python",
   "name": "python",
   "nbconvert_exporter": "python",
   "pygments_lexer": "ipython3",
   "version": "3.7.4"
  }
 },
 "nbformat": 4,
 "nbformat_minor": 2
}
